{
  "nbformat": 4,
  "nbformat_minor": 0,
  "metadata": {
    "colab": {
      "name": "S+P_Week_2_Exercise_Question.ipynb",
      "provenance": [],
      "toc_visible": true
    },
    "kernelspec": {
      "display_name": "Python 3",
      "name": "python3"
    },
    "accelerator": "GPU"
  },
  "cells": [
    {
      "cell_type": "code",
      "metadata": {
        "id": "zX4Kg8DUTKWO",
        "colab_type": "code",
        "colab": {}
      },
      "source": [
        "#@title Licensed under the Apache License, Version 2.0 (the \"License\");\n",
        "# you may not use this file except in compliance with the License.\n",
        "# You may obtain a copy of the License at\n",
        "#\n",
        "# https://www.apache.org/licenses/LICENSE-2.0\n",
        "#\n",
        "# Unless required by applicable law or agreed to in writing, software\n",
        "# distributed under the License is distributed on an \"AS IS\" BASIS,\n",
        "# WITHOUT WARRANTIES OR CONDITIONS OF ANY KIND, either express or implied.\n",
        "# See the License for the specific language governing permissions and\n",
        "# limitations under the License."
      ],
      "execution_count": null,
      "outputs": []
    },
    {
      "cell_type": "code",
      "metadata": {
        "cellView": "both",
        "colab_type": "code",
        "id": "D1J15Vh_1Jih",
        "colab": {
          "base_uri": "https://localhost:8080/",
          "height": 52
        },
        "outputId": "4d948199-8875-4e11-83d7-22faf2603b3e"
      },
      "source": [
        "!pip install tf-nightly-2.0-preview\n"
      ],
      "execution_count": 1,
      "outputs": [
        {
          "output_type": "stream",
          "text": [
            "\u001b[31mERROR: Could not find a version that satisfies the requirement tf-nightly-2.0-preview (from versions: none)\u001b[0m\n",
            "\u001b[31mERROR: No matching distribution found for tf-nightly-2.0-preview\u001b[0m\n"
          ],
          "name": "stdout"
        }
      ]
    },
    {
      "cell_type": "code",
      "metadata": {
        "colab_type": "code",
        "id": "BOjujz601HcS",
        "colab": {
          "base_uri": "https://localhost:8080/",
          "height": 35
        },
        "outputId": "c228d393-e00f-4af6-c365-c3ad9c831a7d"
      },
      "source": [
        "import tensorflow as tf\n",
        "import numpy as np\n",
        "import matplotlib.pyplot as plt\n",
        "print(tf.__version__)"
      ],
      "execution_count": 1,
      "outputs": [
        {
          "output_type": "stream",
          "text": [
            "2.2.0\n"
          ],
          "name": "stdout"
        }
      ]
    },
    {
      "cell_type": "code",
      "metadata": {
        "colab_type": "code",
        "id": "Zswl7jRtGzkk",
        "colab": {
          "base_uri": "https://localhost:8080/",
          "height": 279
        },
        "outputId": "a3e15415-abaf-40c1-faeb-b6cdb60b2a03"
      },
      "source": [
        "def plot_series(time, series, format=\"-\", start=0, end=None):\n",
        "    plt.plot(time[start:end], series[start:end], format)\n",
        "    plt.xlabel(\"Time\")\n",
        "    plt.ylabel(\"Value\")\n",
        "    plt.grid(False)\n",
        "\n",
        "def trend(time, slope=0):\n",
        "    return slope * time\n",
        "\n",
        "def seasonal_pattern(season_time):\n",
        "    \"\"\"Just an arbitrary pattern, you can change it if you wish\"\"\"\n",
        "    return np.where(season_time < 0.1,\n",
        "                    np.cos(season_time * 2 * np.pi),\n",
        "                    3 / np.exp(5 * season_time))\n",
        "\n",
        "def seasonality(time, period, amplitude=1, phase=0):\n",
        "    \"\"\"Repeats the same pattern at each period\"\"\"\n",
        "    season_time = ((time + phase) % period) / period\n",
        "    return amplitude * seasonal_pattern(season_time)\n",
        "\n",
        "def noise(time, noise_level=1, seed=None):\n",
        "    rnd = np.random.RandomState(seed)\n",
        "    return rnd.randn(len(time)) * noise_level\n",
        "\n",
        "\n",
        "time = np.arange(10 * 365 + 1, dtype=\"float32\")\n",
        "baseline = 10\n",
        "series = trend(time, .1)  \n",
        "baseline = 10\n",
        "amplitude = 40\n",
        "slope = .005\n",
        "noise_level = 1\n",
        "\n",
        "# Create the series\n",
        "series = baseline + trend(time, slope) + seasonality(time, period=365, amplitude=amplitude)\n",
        "# Update with noise\n",
        "series += noise(time, noise_level, seed=51)\n",
        "\n",
        "split_time = 3000\n",
        "time_train = time[:split_time]\n",
        "x_train = series[:split_time]\n",
        "time_valid = time[split_time:]\n",
        "x_valid = series[split_time:]\n",
        "\n",
        "window_size = 20\n",
        "batch_size = 32\n",
        "shuffle_buffer_size = 1000\n",
        "\n",
        "plot_series(time, series)"
      ],
      "execution_count": 2,
      "outputs": [
        {
          "output_type": "display_data",
          "data": {
            "image/png": "[encoded data removed]",
            "text/plain": [
              "<Figure size 432x288 with 1 Axes>"
            ]
          },
          "metadata": {
            "tags": [],
            "needs_background": "light"
          }
        }
      ]
    },
    {
      "cell_type": "markdown",
      "metadata": {
        "colab_type": "text",
        "id": "GfUTNqti_lNC"
      },
      "source": [
        "Desired output -- a chart that looks like this:\n",
        "\n",
        "![Chart showing upward trend and seasonailty](http://www.laurencemoroney.com/wp-content/uploads/2019/07/plot1.png)"
      ]
    },
    {
      "cell_type": "code",
      "metadata": {
        "colab_type": "code",
        "id": "4sTTIOCbyShY",
        "colab": {}
      },
      "source": [
        "def windowed_dataset(series, window_size, batch_size, shuffle_buffer):\n",
        "  dataset = tf.data.Dataset.from_tensor_slices(series)\n",
        "  dataset = dataset.window(window_size + 1, shift=1, drop_remainder=True)\n",
        "  dataset = dataset.flat_map(lambda window: window.batch(window_size + 1))\n",
        "  dataset = dataset.shuffle(shuffle_buffer).map(lambda window: (window[:-1], window[-1]))\n",
        "  dataset = dataset.batch(batch_size).prefetch(1)\n",
        "  return dataset"
      ],
      "execution_count": 3,
      "outputs": []
    },
    {
      "cell_type": "code",
      "metadata": {
        "colab_type": "code",
        "id": "TW-vT7eLYAdb",
        "colab": {
          "base_uri": "https://localhost:8080/",
          "height": 1000
        },
        "outputId": "c69de261-1ab1-42d7-a630-3cf66f3b3214"
      },
      "source": [
        "dataset = windowed_dataset(x_train, window_size, batch_size, shuffle_buffer_size)\n",
        "\n",
        "\n",
        "model = tf.keras.models.Sequential([\n",
        "    tf.keras.layers.Dense(100, input_shape=[window_size], activation=\"relu\"),\n",
        "    tf.keras.layers.Dense(10, activation=\"relu\"), \n",
        "    tf.keras.layers.Dense(1)\n",
        "])\n",
        "\n",
        "model.compile(loss=\"mse\", optimizer=tf.keras.optimizers.SGD(lr=1e-6, momentum=0.9))\n",
        "model.fit(dataset,epochs=100,verbose=1)\n"
      ],
      "execution_count": 8,
      "outputs": [
        {
          "output_type": "stream",
          "text": [
            "Epoch 1/100\n",
            "94/94 [==============================] - 1s 6ms/step - loss: 273.4175\n",
            "Epoch 2/100\n",
            "94/94 [==============================] - 1s 6ms/step - loss: 35.1737\n",
            "Epoch 3/100\n",
            "94/94 [==============================] - 1s 6ms/step - loss: 29.6516\n",
            "Epoch 4/100\n",
            "94/94 [==============================] - 1s 6ms/step - loss: 25.4489\n",
            "Epoch 5/100\n",
            "94/94 [==============================] - 1s 6ms/step - loss: 22.5689\n",
            "Epoch 6/100\n",
            "94/94 [==============================] - 1s 6ms/step - loss: 20.5436\n",
            "Epoch 7/100\n",
            "94/94 [==============================] - 1s 6ms/step - loss: 19.2608\n",
            "Epoch 8/100\n",
            "94/94 [==============================] - 1s 6ms/step - loss: 17.9562\n",
            "Epoch 9/100\n",
            "94/94 [==============================] - 1s 6ms/step - loss: 16.9677\n",
            "Epoch 10/100\n",
            "94/94 [==============================] - 1s 6ms/step - loss: 16.5763\n",
            "Epoch 11/100\n",
            "94/94 [==============================] - 1s 6ms/step - loss: 15.8075\n",
            "Epoch 12/100\n",
            "94/94 [==============================] - 1s 6ms/step - loss: 15.6663\n",
            "Epoch 13/100\n",
            "94/94 [==============================] - 1s 6ms/step - loss: 14.9546\n",
            "Epoch 14/100\n",
            "94/94 [==============================] - 1s 6ms/step - loss: 14.6164\n",
            "Epoch 15/100\n",
            "94/94 [==============================] - 1s 6ms/step - loss: 14.1970\n",
            "Epoch 16/100\n",
            "94/94 [==============================] - 1s 6ms/step - loss: 13.9083\n",
            "Epoch 17/100\n",
            "94/94 [==============================] - 1s 6ms/step - loss: 13.7104\n",
            "Epoch 18/100\n",
            "94/94 [==============================] - 1s 6ms/step - loss: 13.5173\n",
            "Epoch 19/100\n",
            "94/94 [==============================] - 1s 6ms/step - loss: 13.3159\n",
            "Epoch 20/100\n",
            "94/94 [==============================] - 1s 6ms/step - loss: 13.1239\n",
            "Epoch 21/100\n",
            "94/94 [==============================] - 1s 6ms/step - loss: 12.9586\n",
            "Epoch 22/100\n",
            "94/94 [==============================] - 1s 6ms/step - loss: 12.8613\n",
            "Epoch 23/100\n",
            "94/94 [==============================] - 1s 6ms/step - loss: 12.9854\n",
            "Epoch 24/100\n",
            "94/94 [==============================] - 1s 6ms/step - loss: 12.8188\n",
            "Epoch 25/100\n",
            "94/94 [==============================] - 1s 6ms/step - loss: 12.4339\n",
            "Epoch 26/100\n",
            "94/94 [==============================] - 1s 6ms/step - loss: 12.3919\n",
            "Epoch 27/100\n",
            "94/94 [==============================] - 1s 6ms/step - loss: 12.2260\n",
            "Epoch 28/100\n",
            "94/94 [==============================] - 1s 6ms/step - loss: 12.1381\n",
            "Epoch 29/100\n",
            "94/94 [==============================] - 1s 6ms/step - loss: 12.1344\n",
            "Epoch 30/100\n",
            "94/94 [==============================] - 1s 6ms/step - loss: 12.0684\n",
            "Epoch 31/100\n",
            "94/94 [==============================] - 1s 6ms/step - loss: 12.0508\n",
            "Epoch 32/100\n",
            "94/94 [==============================] - 1s 6ms/step - loss: 11.8684\n",
            "Epoch 33/100\n",
            "94/94 [==============================] - 1s 6ms/step - loss: 11.9281\n",
            "Epoch 34/100\n",
            "94/94 [==============================] - 1s 7ms/step - loss: 11.8550\n",
            "Epoch 35/100\n",
            "94/94 [==============================] - 1s 7ms/step - loss: 12.0033\n",
            "Epoch 36/100\n",
            "94/94 [==============================] - 1s 7ms/step - loss: 11.8446\n",
            "Epoch 37/100\n",
            "94/94 [==============================] - 1s 6ms/step - loss: 11.8222\n",
            "Epoch 38/100\n",
            "94/94 [==============================] - 1s 7ms/step - loss: 11.7898\n",
            "Epoch 39/100\n",
            "94/94 [==============================] - 1s 7ms/step - loss: 11.5893\n",
            "Epoch 40/100\n",
            "94/94 [==============================] - 1s 6ms/step - loss: 11.6159\n",
            "Epoch 41/100\n",
            "94/94 [==============================] - 1s 6ms/step - loss: 11.5529\n",
            "Epoch 42/100\n",
            "94/94 [==============================] - 1s 6ms/step - loss: 11.5871\n",
            "Epoch 43/100\n",
            "94/94 [==============================] - 1s 6ms/step - loss: 11.5637\n",
            "Epoch 44/100\n",
            "94/94 [==============================] - 1s 6ms/step - loss: 11.5299\n",
            "Epoch 45/100\n",
            "94/94 [==============================] - 1s 6ms/step - loss: 11.5531\n",
            "Epoch 46/100\n",
            "94/94 [==============================] - 1s 6ms/step - loss: 11.5115\n",
            "Epoch 47/100\n",
            "94/94 [==============================] - 1s 6ms/step - loss: 11.6207\n",
            "Epoch 48/100\n",
            "94/94 [==============================] - 1s 6ms/step - loss: 11.6172\n",
            "Epoch 49/100\n",
            "94/94 [==============================] - 1s 6ms/step - loss: 11.3792\n",
            "Epoch 50/100\n",
            "94/94 [==============================] - 1s 6ms/step - loss: 11.4917\n",
            "Epoch 51/100\n",
            "94/94 [==============================] - 1s 6ms/step - loss: 11.4371\n",
            "Epoch 52/100\n",
            "94/94 [==============================] - 1s 6ms/step - loss: 11.4302\n",
            "Epoch 53/100\n",
            "94/94 [==============================] - 1s 6ms/step - loss: 11.4293\n",
            "Epoch 54/100\n",
            "94/94 [==============================] - 1s 6ms/step - loss: 11.4287\n",
            "Epoch 55/100\n",
            "94/94 [==============================] - 1s 6ms/step - loss: 11.3193\n",
            "Epoch 56/100\n",
            "94/94 [==============================] - 1s 6ms/step - loss: 11.3022\n",
            "Epoch 57/100\n",
            "94/94 [==============================] - 1s 6ms/step - loss: 11.3699\n",
            "Epoch 58/100\n",
            "94/94 [==============================] - 1s 6ms/step - loss: 11.3236\n",
            "Epoch 59/100\n",
            "94/94 [==============================] - 1s 6ms/step - loss: 11.2836\n",
            "Epoch 60/100\n",
            "94/94 [==============================] - 1s 7ms/step - loss: 11.3333\n",
            "Epoch 61/100\n",
            "94/94 [==============================] - 1s 6ms/step - loss: 11.2503\n",
            "Epoch 62/100\n",
            "94/94 [==============================] - 1s 6ms/step - loss: 11.2503\n",
            "Epoch 63/100\n",
            "94/94 [==============================] - 1s 6ms/step - loss: 11.3628\n",
            "Epoch 64/100\n",
            "94/94 [==============================] - 1s 6ms/step - loss: 11.1808\n",
            "Epoch 65/100\n",
            "94/94 [==============================] - 1s 6ms/step - loss: 11.1340\n",
            "Epoch 66/100\n",
            "94/94 [==============================] - 1s 7ms/step - loss: 11.1784\n",
            "Epoch 67/100\n",
            "94/94 [==============================] - 1s 6ms/step - loss: 11.2179\n",
            "Epoch 68/100\n",
            "94/94 [==============================] - 1s 6ms/step - loss: 11.1595\n",
            "Epoch 69/100\n",
            "94/94 [==============================] - 1s 6ms/step - loss: 11.1562\n",
            "Epoch 70/100\n",
            "94/94 [==============================] - 1s 6ms/step - loss: 11.4124\n",
            "Epoch 71/100\n",
            "94/94 [==============================] - 1s 6ms/step - loss: 11.1070\n",
            "Epoch 72/100\n",
            "94/94 [==============================] - 1s 6ms/step - loss: 11.1595\n",
            "Epoch 73/100\n",
            "94/94 [==============================] - 1s 6ms/step - loss: 12.1503\n",
            "Epoch 74/100\n",
            "94/94 [==============================] - 1s 6ms/step - loss: 11.1401\n",
            "Epoch 75/100\n",
            "94/94 [==============================] - 1s 6ms/step - loss: 11.1879\n",
            "Epoch 76/100\n",
            "94/94 [==============================] - 1s 6ms/step - loss: 11.2400\n",
            "Epoch 77/100\n",
            "94/94 [==============================] - 1s 6ms/step - loss: 11.0750\n",
            "Epoch 78/100\n",
            "94/94 [==============================] - 1s 6ms/step - loss: 11.1766\n",
            "Epoch 79/100\n",
            "94/94 [==============================] - 1s 6ms/step - loss: 11.0871\n",
            "Epoch 80/100\n",
            "94/94 [==============================] - 1s 6ms/step - loss: 11.1138\n",
            "Epoch 81/100\n",
            "94/94 [==============================] - 1s 6ms/step - loss: 11.0267\n",
            "Epoch 82/100\n",
            "94/94 [==============================] - 1s 6ms/step - loss: 11.0299\n",
            "Epoch 83/100\n",
            "94/94 [==============================] - 1s 6ms/step - loss: 11.1018\n",
            "Epoch 84/100\n",
            "94/94 [==============================] - 1s 6ms/step - loss: 11.0683\n",
            "Epoch 85/100\n",
            "94/94 [==============================] - 1s 6ms/step - loss: 11.0538\n",
            "Epoch 86/100\n",
            "94/94 [==============================] - 1s 7ms/step - loss: 11.0689\n",
            "Epoch 87/100\n",
            "94/94 [==============================] - 1s 7ms/step - loss: 11.0293\n",
            "Epoch 88/100\n",
            "94/94 [==============================] - 1s 6ms/step - loss: 11.0118\n",
            "Epoch 89/100\n",
            "94/94 [==============================] - 1s 6ms/step - loss: 11.0918\n",
            "Epoch 90/100\n",
            "94/94 [==============================] - 1s 6ms/step - loss: 10.9950\n",
            "Epoch 91/100\n",
            "94/94 [==============================] - 1s 6ms/step - loss: 11.0209\n",
            "Epoch 92/100\n",
            "94/94 [==============================] - 1s 6ms/step - loss: 10.9861\n",
            "Epoch 93/100\n",
            "94/94 [==============================] - 1s 6ms/step - loss: 10.9574\n",
            "Epoch 94/100\n",
            "94/94 [==============================] - 1s 6ms/step - loss: 11.2183\n",
            "Epoch 95/100\n",
            "94/94 [==============================] - 1s 6ms/step - loss: 11.1296\n",
            "Epoch 96/100\n",
            "94/94 [==============================] - 1s 6ms/step - loss: 11.0540\n",
            "Epoch 97/100\n",
            "94/94 [==============================] - 1s 7ms/step - loss: 11.0127\n",
            "Epoch 98/100\n",
            "94/94 [==============================] - 1s 6ms/step - loss: 11.0136\n",
            "Epoch 99/100\n",
            "94/94 [==============================] - 1s 6ms/step - loss: 10.9296\n",
            "Epoch 100/100\n",
            "94/94 [==============================] - 1s 6ms/step - loss: 10.9873\n"
          ],
          "name": "stdout"
        },
        {
          "output_type": "execute_result",
          "data": {
            "text/plain": [
              "<tensorflow.python.keras.callbacks.History at 0x7fbb01973160>"
            ]
          },
          "metadata": {
            "tags": []
          },
          "execution_count": 8
        }
      ]
    },
    {
      "cell_type": "code",
      "metadata": {
        "colab_type": "code",
        "id": "efhco2rYyIFF",
        "colab": {
          "base_uri": "https://localhost:8080/",
          "height": 388
        },
        "outputId": "796be910-1716-4745-d80d-1535dcf2801b"
      },
      "source": [
        "forecast = []\n",
        "for time in range(len(series) - window_size):\n",
        "  forecast.append(model.predict(series[time:time + window_size][np.newaxis]))\n",
        "\n",
        "forecast = forecast[split_time-window_size:]\n",
        "results = np.array(forecast)[:, 0, 0]\n",
        "\n",
        "\n",
        "plt.figure(figsize=(10, 6))\n",
        "\n",
        "plot_series(time_valid, x_valid)\n",
        "plot_series(time_valid, results)"
      ],
      "execution_count": 9,
      "outputs": [
        {
          "output_type": "display_data",
          "data": {
            "image/png": "[encoded data removed]",
            "text/plain": [
              "<Figure size 720x432 with 1 Axes>"
            ]
          },
          "metadata": {
            "tags": [],
            "needs_background": "light"
          }
        }
      ]
    },
    {
      "cell_type": "code",
      "metadata": {
        "colab_type": "code",
        "id": "-kT6j186YO6K",
        "colab": {
          "base_uri": "https://localhost:8080/",
          "height": 35
        },
        "outputId": "97d26d24-5266-46c9-b4f8-d92a80060ab7"
      },
      "source": [
        "tf.keras.metrics.mean_absolute_error(x_valid, results).numpy()\n",
        "# EXPECTED OUTPUT\n",
        "# A Value less than 3"
      ],
      "execution_count": 10,
      "outputs": [
        {
          "output_type": "execute_result",
          "data": {
            "text/plain": [
              "1.2614735"
            ]
          },
          "metadata": {
            "tags": []
          },
          "execution_count": 10
        }
      ]
    }
  ]
}